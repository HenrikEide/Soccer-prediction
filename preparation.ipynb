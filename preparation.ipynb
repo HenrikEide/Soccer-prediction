{
    "cells": [
        {
            "cell_type": "markdown",
            "source": [
                "# INF161 project - Data prep"
            ],
            "metadata": {}
        },
        {
            "cell_type": "code",
            "execution_count": 13,
            "source": [
                "import pandas as pd\r\n",
                "import plotly.express as px\r\n"
            ],
            "outputs": [],
            "metadata": {}
        },
        {
            "cell_type": "markdown",
            "source": [
                "## Step 1: Read them files"
            ],
            "metadata": {}
        },
        {
            "cell_type": "code",
            "execution_count": 12,
            "source": [
                "def htmlToDataframe(fileName : str, year : str):\r\n",
                "    read = pd.read_html(f\"{year}/{fileName}.xls\", encoding=\"UTF-8\")\r\n",
                "    return pd.DataFrame(read[0])\r\n",
                "\r\n",
                "\r\n",
                "# Proof of concept, just to have a bit of a gander.\r\n",
                "fil = pd.read_html(\"2018/games.xls\", encoding=\"UTF-8\")\r\n",
                "\r\n",
                "fil = pd.DataFrame(fil[0])\r\n",
                "\r\n",
                "[print(x) for x in fil[\"Notes\"].isna() if not x]\r\n"
            ],
            "outputs": [
                {
                    "output_type": "execute_result",
                    "data": {
                        "text/plain": [
                            "[]"
                        ]
                    },
                    "metadata": {},
                    "execution_count": 12
                }
            ],
            "metadata": {}
        },
        {
            "cell_type": "markdown",
            "source": [
                "### Looks good, now to save the data as CVS files for modelling, rather than HTML files."
            ],
            "metadata": {}
        },
        {
            "cell_type": "code",
            "execution_count": 16,
            "source": [
                "\r\n",
                "\r\n",
                "years = [\"2017\", \"2018\", \"2019\"]\r\n",
                "filenames = [\"games\", \"player-stats\", \"table\", \"team-stats\"]\r\n",
                "games = []\r\n",
                "player_stats = []\r\n",
                "table = []\r\n",
                "team_stats = []\r\n",
                "\r\n",
                "for year in years:\r\n",
                "    games.append(htmlToDataframe(\"games\", year))\r\n",
                "    player_stats.append(htmlToDataframe(\"player-stats\", year))\r\n",
                "    table.append(htmlToDataframe(\"table\", year))\r\n",
                "    team_stats.append(htmlToDataframe(\"team-stats\", year))\r\n",
                "    #htmlToDataframe(fil, year).to_csv(f\"prepared/{year}/{fil}.csv\")\r\n",
                "\r\n",
                "\r\n"
            ],
            "outputs": [
                {
                    "output_type": "execute_result",
                    "data": {
                        "text/plain": [
                            "[    Rk           Squad  MP   W  D   L  GF  GA  GD  Pts  Attendance  \\\n",
                            " 0    1     LSK Kvinner  22  19  2   1  68  18  50   59         265   \n",
                            " 1    2       Avaldsnes  22  15  3   4  51  17  34   48         245   \n",
                            " 2    3          Stabæk  22  13  4   5  46  23  23   43         193   \n",
                            " 3    4           Klepp  22  12  4   6  34  24  10   40         267   \n",
                            " 4    5             Røa  22  11  4   7  42  28  14   37         190   \n",
                            " 5    6    Arna-Bjørnar  22   9  8   5  39  28  11   35         194   \n",
                            " 6    7       Vålerenga  22  10  4   8  38  33   5   34         449   \n",
                            " 7    8  Trondheims-Ørn  22   8  6   8  36  36   0   30         240   \n",
                            " 8    9       Sandviken  22   4  6  12  23  34 -11   18         236   \n",
                            " 9   10         Kolbotn  22   4  3  15  17  43 -26   15         193   \n",
                            " 10  11      Grand Bodø  22   2  2  18  30  80 -50    8         222   \n",
                            " 11  12         Medkila  22   1  2  19   9  69 -60    5         169   \n",
                            " \n",
                            "                           Top Team Scorer            Goalkeeper  \\\n",
                            " 0                        Guro Reiten - 18  Cecilie Fiskerstrand   \n",
                            " 1   Cecilie Pedersen, Elise Thorsnes - 11          Katie Fraine   \n",
                            " 2                   Melissa Bjånesøy - 11      Ingrid Hjelmseth   \n",
                            " 3                        Tameka Butt - 14           Oda Bogstad   \n",
                            " 4         Lisa-Marie Karlseng Utland - 17    Kirvil Schau Odden   \n",
                            " 5                          Josée Nahi - 7      Alyssa Giannetti   \n",
                            " 6        Elise Krieghoff, Maren Hauge - 7        Michelle Betos   \n",
                            " 7                      Rakel Engesvik - 8       Kristine Nøstmo   \n",
                            " 8                        Sofie Jensen - 6      Nora Neset Gjøen   \n",
                            " 9                     Juliette Kemppi - 5       Aurora Mikalsen   \n",
                            " 10             Anne-Marthe Birkeland - 11         Siiri Välimaa   \n",
                            " 11                     Anja Rasmussen - 3          Megan Kufeld   \n",
                            " \n",
                            "                                                Notes  \n",
                            " 0               → Champions League via league finish  \n",
                            " 1               → Champions League via league finish  \n",
                            " 2                                                NaN  \n",
                            " 3                                                NaN  \n",
                            " 4                                                NaN  \n",
                            " 5                                                NaN  \n",
                            " 6                                                NaN  \n",
                            " 7                                                NaN  \n",
                            " 8                                                NaN  \n",
                            " 9                                                NaN  \n",
                            " 10  → Norwegian 1/2 Relegation/Promotion Playoff (W)  \n",
                            " 11                                         Relegated  ,\n",
                            "     Rk           Squad  MP   W  D   L  GF  GA  GD  Pts  Attendance  \\\n",
                            " 0    1     LSK Kvinner  22  20  1   1  71  15  56   61         348   \n",
                            " 1    2           Klepp  22  15  3   4  39  21  18   48         278   \n",
                            " 2    3    Arna-Bjørnar  22  11  6   5  53  26  27   39         234   \n",
                            " 3    4       Sandviken  22  11  6   5  42  29  13   39         390   \n",
                            " 4    5         Kolbotn  22  11  6   5  34  35  -1   39         223   \n",
                            " 5    6       Vålerenga  22  10  3   9  37  35   2   33         376   \n",
                            " 6    7             Røa  22  10  2  10  42  42   0   32         233   \n",
                            " 7    8          Stabæk  22   7  2  13  29  37  -8   23         200   \n",
                            " 8    9       Avaldsnes  22   5  6  11  24  38 -14   21         150   \n",
                            " 9   10  Trondheims-Ørn  22   4  6  12  25  48 -23   18         227   \n",
                            " 10  11             Lyn  22   3  3  16  27  56 -29   12         233   \n",
                            " 11  12      Grand Bodø  22   2  2  18  20  61 -41    8         195   \n",
                            " \n",
                            "                   Top Team Scorer             Goalkeeper  \\\n",
                            " 0                Guro Reiten - 21   Cecilie Fiskerstrand   \n",
                            " 1                Hege Hansen - 10         Lindsey Harris   \n",
                            " 2            Maria Brochmann - 15       Mackenzie Arnold   \n",
                            " 3               Ajara Nchout - 15       Nora Neset Gjøen   \n",
                            " 4                Karina Sævik - 9        Aurora Mikalsen   \n",
                            " 5              Sherida Spitse - 9         Guro Pettersen   \n",
                            " 6   Svava Rós Guðmundsdóttir - 14     Kirvil Schau Odden   \n",
                            " 7            Melissa Bjånesøy - 9       Ingrid Hjelmseth   \n",
                            " 8    Meryll Abrahamsen, Luana - 5  Line Geltzer Johansen   \n",
                            " 9               Julie Adserø - 10        Kristine Nøstmo   \n",
                            " 10                Linn Huseby - 9            Oda Bogstad   \n",
                            " 11             Vilde Fjelldal - 5          Siiri Välimaa   \n",
                            " \n",
                            "                                                Notes  \n",
                            " 0               → Champions League via league finish  \n",
                            " 1                                                NaN  \n",
                            " 2                                                NaN  \n",
                            " 3                                                NaN  \n",
                            " 4                                                NaN  \n",
                            " 5                                                NaN  \n",
                            " 6                                                NaN  \n",
                            " 7                                                NaN  \n",
                            " 8                                                NaN  \n",
                            " 9                                                NaN  \n",
                            " 10  → Norwegian 1/2 Relegation/Promotion Playoff (W)  \n",
                            " 11                                         Relegated  ,\n",
                            "     Rk           Squad  MP   W  D   L  GF  GA  GD  Pts  Attendance  \\\n",
                            " 0    1     LSK Kvinner  22  15  5   2  51  18  33   50         339   \n",
                            " 1    2       Vålerenga  22  14  4   4  41  24  17   46         489   \n",
                            " 2    3           Klepp  22  14  2   6  48  19  29   44         260   \n",
                            " 3    4       Sandviken  22  12  4   6  43  32  11   40         465   \n",
                            " 4    5       Avaldsnes  22   9  7   6  40  33   7   34         172   \n",
                            " 5    6             Røa  22   7  8   7  40  35   5   29         305   \n",
                            " 6    7  Trondheims-Ørn  22   8  5   9  26  22   4   29         264   \n",
                            " 7    8         Kolbotn  22   7  6   9  35  39  -4   27         167   \n",
                            " 8    9    Arna-Bjørnar  22   6  5  11  26  41 -15   23         295   \n",
                            " 9   10             Lyn  22   4  8  10  23  37 -14   20         191   \n",
                            " 10  11          Stabæk  22   3  4  15  16  43 -27   13         180   \n",
                            " 11  12            Fart  22   2  4  16  14  60 -46   10         236   \n",
                            " \n",
                            "                      Top Team Scorer            Goalkeeper  \\\n",
                            " 0   Guro Reiten, Elise Thorsnes - 12  Cecilie Fiskerstrand   \n",
                            " 1   Natasha Dowie, Ajara Nchout - 11        Hannah Seabert   \n",
                            " 2    Havana Solaun, Tameka Butt - 10        Lindsey Harris   \n",
                            " 3                Kennya Cordner - 17      Nora Neset Gjøen   \n",
                            " 4                       Giovanna - 9        Victoria Esson   \n",
                            " 5                  Synne Jensen - 16    Kirvil Schau Odden   \n",
                            " 6                  Marit Clausen - 9       Kristine Nøstmo   \n",
                            " 7              Isabell Herlovsen - 8       Aurora Mikalsen   \n",
                            " 8               Milica Mijatović - 7           Oda Bogstad   \n",
                            " 9                Runa Lillegård - 10     Karen Oline Sneve   \n",
                            " 10              Melissa Bjånesøy - 9      Ingrid Hjelmseth   \n",
                            " 11                Julie Blakstad - 4            Lena Lauve   \n",
                            " \n",
                            "                                                Notes  \n",
                            " 0               → Champions League via league finish  \n",
                            " 1               → Champions League via league finish  \n",
                            " 2                                                NaN  \n",
                            " 3                                                NaN  \n",
                            " 4                                                NaN  \n",
                            " 5                                                NaN  \n",
                            " 6                                                NaN  \n",
                            " 7                                                NaN  \n",
                            " 8                                                NaN  \n",
                            " 9   → Norwegian 1/2 Relegation/Promotion Playoff (W)  \n",
                            " 10                                         Relegated  \n",
                            " 11                                         Relegated  ]"
                        ]
                    },
                    "metadata": {},
                    "execution_count": 16
                }
            ],
            "metadata": {}
        },
        {
            "cell_type": "markdown",
            "source": [
                "### Beautiful. Although some of these files do need a bit of cleaning."
            ],
            "metadata": {}
        }
    ],
    "metadata": {
        "orig_nbformat": 4,
        "language_info": {
            "name": "python",
            "version": "3.8.3",
            "mimetype": "text/x-python",
            "codemirror_mode": {
                "name": "ipython",
                "version": 3
            },
            "pygments_lexer": "ipython3",
            "nbconvert_exporter": "python",
            "file_extension": ".py"
        },
        "kernelspec": {
            "name": "python3",
            "display_name": "Python 3.8.3 64-bit"
        },
        "interpreter": {
            "hash": "2db524e06e9f5f4ffedc911c917cb75e12dbc923643829bf417064a77eb14d37"
        }
    },
    "nbformat": 4,
    "nbformat_minor": 2
}