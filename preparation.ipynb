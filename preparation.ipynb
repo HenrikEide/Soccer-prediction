{
    "cells": [
        {
            "cell_type": "markdown",
            "source": [
                "# INF161 project - Data prep"
            ],
            "metadata": {}
        },
        {
            "cell_type": "code",
            "execution_count": 2,
            "source": [
                "import pandas as pd\r\n"
            ],
            "outputs": [],
            "metadata": {}
        },
        {
            "cell_type": "markdown",
            "source": [
                "## Step 1: Read them files"
            ],
            "metadata": {}
        },
        {
            "cell_type": "code",
            "execution_count": 10,
            "source": [
                "def htmlToDataframe(fileName : str, year : str):\r\n",
                "    read = pd.read_html(f\"{year}/{fileName}.xls\", encoding=\"UTF-8\")\r\n",
                "    return pd.DataFrame(read[0])\r\n",
                "\r\n",
                "\r\n",
                "# Proof of concept, just to have a bit of a gander.\r\n",
                "fil = pd.read_html(\"2018/games.xls\", encoding=\"UTF-8\")\r\n",
                "\r\n",
                "fil = pd.DataFrame(fil[0])\r\n",
                "\r\n",
                "[print(x) for x in fil[\"Notes\"].isna()]\r\n"
            ],
            "outputs": [
                {
                    "output_type": "error",
                    "ename": "TypeError",
                    "evalue": "'method' object is not iterable",
                    "traceback": [
                        "\u001b[1;31m---------------------------------------------------------------------------\u001b[0m",
                        "\u001b[1;31mTypeError\u001b[0m                                 Traceback (most recent call last)",
                        "\u001b[1;32m<ipython-input-10-483f608e2c6f>\u001b[0m in \u001b[0;36m<module>\u001b[1;34m\u001b[0m\n\u001b[0;32m      9\u001b[0m \u001b[0mfil\u001b[0m \u001b[1;33m=\u001b[0m \u001b[0mpd\u001b[0m\u001b[1;33m.\u001b[0m\u001b[0mDataFrame\u001b[0m\u001b[1;33m(\u001b[0m\u001b[0mfil\u001b[0m\u001b[1;33m[\u001b[0m\u001b[1;36m0\u001b[0m\u001b[1;33m]\u001b[0m\u001b[1;33m)\u001b[0m\u001b[1;33m\u001b[0m\u001b[1;33m\u001b[0m\u001b[0m\n\u001b[0;32m     10\u001b[0m \u001b[1;33m\u001b[0m\u001b[0m\n\u001b[1;32m---> 11\u001b[1;33m \u001b[1;33m[\u001b[0m\u001b[0mprint\u001b[0m\u001b[1;33m(\u001b[0m\u001b[0mx\u001b[0m\u001b[1;33m)\u001b[0m \u001b[1;32mfor\u001b[0m \u001b[0mx\u001b[0m \u001b[1;32min\u001b[0m \u001b[0mfil\u001b[0m\u001b[1;33m[\u001b[0m\u001b[1;34m\"Notes\"\u001b[0m\u001b[1;33m]\u001b[0m\u001b[1;33m.\u001b[0m\u001b[0misna\u001b[0m\u001b[1;33m]\u001b[0m\u001b[1;33m\u001b[0m\u001b[1;33m\u001b[0m\u001b[0m\n\u001b[0m",
                        "\u001b[1;31mTypeError\u001b[0m: 'method' object is not iterable"
                    ]
                }
            ],
            "metadata": {}
        },
        {
            "cell_type": "markdown",
            "source": [
                "### Looks good, now to save the data as CVS files for modelling, rather than HTML files."
            ],
            "metadata": {}
        },
        {
            "cell_type": "code",
            "execution_count": 12,
            "source": [
                "years = [\"2017\", \"2018\", \"2019\"]\r\n",
                "files = [\"games\", \"player-stats\", \"table\", \"team-stats\"]\r\n",
                "\r\n",
                "for y in years:\r\n",
                "    for f in files:\r\n",
                "        htmlToDataframe(f, y).to_csv(f\"prepared/{y}/{f}.csv\")\r\n",
                "#TODO these data files are not analysed well enough."
            ],
            "outputs": [],
            "metadata": {}
        },
        {
            "cell_type": "markdown",
            "source": [
                "### Beautiful. Although some of these files do need a bit of cleaning."
            ],
            "metadata": {}
        }
    ],
    "metadata": {
        "orig_nbformat": 4,
        "language_info": {
            "name": "python",
            "version": "3.8.3",
            "mimetype": "text/x-python",
            "codemirror_mode": {
                "name": "ipython",
                "version": 3
            },
            "pygments_lexer": "ipython3",
            "nbconvert_exporter": "python",
            "file_extension": ".py"
        },
        "kernelspec": {
            "name": "python3",
            "display_name": "Python 3.8.3 64-bit"
        },
        "interpreter": {
            "hash": "2db524e06e9f5f4ffedc911c917cb75e12dbc923643829bf417064a77eb14d37"
        }
    },
    "nbformat": 4,
    "nbformat_minor": 2
}